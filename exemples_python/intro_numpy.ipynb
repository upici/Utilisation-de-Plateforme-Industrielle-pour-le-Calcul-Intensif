{
 "cells": [
  {
   "cell_type": "markdown",
   "metadata": {},
   "source": [
    "# Brève introduction à Numpy\n",
    "`numpy` est un module particulier, qui implémente de nouveaux types de variables: les tableaux multidimensionnels de nombres. Ce module implémente également des fonctions compilées qui sont très efficaces lorsqu'elles sont appliquées globalement sur ces tableaux."
   ]
  },
  {
   "cell_type": "markdown",
   "metadata": {},
   "source": [
    "## Premier exemple de vectorisation \n",
    "On importe le module `numpy` et on le nomme `np` pour simplifier l'écriture ensuite."
   ]
  },
  {
   "cell_type": "code",
   "execution_count": 1,
   "metadata": {
    "collapsed": true
   },
   "outputs": [],
   "source": [
    "import numpy as np"
   ]
  },
  {
   "cell_type": "markdown",
   "metadata": {},
   "source": [
    "On peut utiliser le module `time` pour mesurer le temps d'exécution du code. Il existe une meilleure solution qui s'appelle `timit`, mais dont l'utilisation est plus technique."
   ]
  },
  {
   "cell_type": "code",
   "execution_count": 2,
   "metadata": {
    "collapsed": true
   },
   "outputs": [],
   "source": [
    "import time"
   ]
  },
  {
   "cell_type": "markdown",
   "metadata": {},
   "source": [
    "Supposons par exemple que l'on veut calculer la somme de $k=0$ à $p$ des sommes $0 \\le i < 10^k$ de $10^{-k}$, qui est en théorie égale à $p+1$."
   ]
  },
  {
   "cell_type": "code",
   "execution_count": 3,
   "metadata": {},
   "outputs": [
    {
     "name": "stdout",
     "output_type": "stream",
     "text": [
      "Somme :  8.000000e+00 -- erreur : -2.903771e-09 -- durée :  2.505477e+00\n"
     ]
    }
   ],
   "source": [
    "p = 7\n",
    "t1 = time.clock()\n",
    "S = 0.0\n",
    "for k in range(p+1):\n",
    "    for i in range(10**k):\n",
    "        S = S + 10.0**(-k)\n",
    "t2 = time.clock()\n",
    "print(\"Somme : {0:13.6e} -- erreur : {1:13.6e} -- durée : {2:13.6e}\".\n",
    "      format(S,p+1-S,t2-t1))"
   ]
  },
  {
   "cell_type": "markdown",
   "metadata": {},
   "source": [
    "Ci-dessus, l'affichage a été mis en forme avec la fonction `format()` de python (python 3 seulement)."
   ]
  },
  {
   "cell_type": "markdown",
   "metadata": {},
   "source": [
    "À la place, on peut, par exemple, créer un tableau pour chacune des étapes (boucle $i$ ci-dessous), et observer que le calcul est beaucoup plus rapide."
   ]
  },
  {
   "cell_type": "code",
   "execution_count": 4,
   "metadata": {},
   "outputs": [
    {
     "name": "stdout",
     "output_type": "stream",
     "text": [
      "Somme :  8.000000e+00 -- erreur : -1.598721e-14 -- durée :  6.504900e-02\n"
     ]
    }
   ],
   "source": [
    "t1 = time.clock()\n",
    "S = 0.0\n",
    "for k in range(p+1):\n",
    "    N = np.ones(10**k) * 10**(-k)\n",
    "    S = S + np.sum(N)\n",
    "t2 = time.clock()\n",
    "print(\"Somme : {0:13.6e} -- erreur : {1:13.6e} -- durée : {2:13.6e}\".\n",
    "      format(S,p+1-S,t2-t1))"
   ]
  },
  {
   "cell_type": "markdown",
   "metadata": {},
   "source": [
    "**On voit donc l'importance de vectoriser au maximum les opérations**, du moins tant que le calcul rentre dans la mémoire."
   ]
  },
  {
   "cell_type": "markdown",
   "metadata": {},
   "source": [
    "## Exemples de déclaration de tableaux\n",
    "Et voici quelques exemples de déclaration de tableau."
   ]
  },
  {
   "cell_type": "code",
   "execution_count": 5,
   "metadata": {},
   "outputs": [
    {
     "name": "stdout",
     "output_type": "stream",
     "text": [
      "a = \n",
      "[ 1  3  2  0  1 -4] est de type <class 'numpy.ndarray'>\n",
      "b = \n",
      "[[4. 2.]\n",
      " [1. 3.]] est de type <class 'numpy.ndarray'>\n"
     ]
    }
   ],
   "source": [
    "a = np.array([1,3,2,0,1,-4])\n",
    "print(\"a = \\n{} est de type {}\".format(a,type(a)))\n",
    "\n",
    "b = np.array([[4.,2.],[1.,3.]])\n",
    "print(\"b = \\n{} est de type {}\".format(b,type(b)))"
   ]
  },
  {
   "cell_type": "markdown",
   "metadata": {},
   "source": [
    "Les fonctions ci-dessous permettent d'initialiser des tableaux à des valeurs courantes: $0$, $1$, une suite de nombre. Par ailleurs, ils servent à réserver a priori la mémoire pour un tableau lorsque l'on connait sa taille à l'avance."
   ]
  },
  {
   "cell_type": "code",
   "execution_count": 6,
   "metadata": {},
   "outputs": [
    {
     "name": "stdout",
     "output_type": "stream",
     "text": [
      "[[0. 0. 0. 0. 0. 0. 0. 0. 0. 0.]\n",
      " [0. 0. 0. 0. 0. 0. 0. 0. 0. 0.]]\n",
      "[[1. 1. 1. 1.]\n",
      " [1. 1. 1. 1.]\n",
      " [1. 1. 1. 1.]]\n",
      "[0 1 2 3 4]\n",
      "[0. 1. 2. 3. 4.]\n"
     ]
    }
   ],
   "source": [
    "print(np.zeros((2,10))) # crée un tableau de float initialisé à 0\n",
    "print(np.ones((3,4)))   # idem, initialisé à 1\n",
    "print(np.arange(5))     # crée un tableau d'int i tels que 0<=i<5\n",
    "print(np.arange(5, dtype=float)) # pour forcer un float"
   ]
  },
  {
   "cell_type": "markdown",
   "metadata": {},
   "source": [
    "D'autres fonctions utiles:\n",
    "- `np.linspace` : maillage régulier d'un intervalle 1D\n",
    "- `np.eye`, `np.identity` : matrice identité\n",
    "- `np.meshgrid`, `np.mgrid` : maillages d'un rectangle 2D\n",
    "- ..."
   ]
  },
  {
   "cell_type": "code",
   "execution_count": 7,
   "metadata": {},
   "outputs": [
    {
     "name": "stdout",
     "output_type": "stream",
     "text": [
      "[[1. 0.]\n",
      " [0. 1.]\n",
      " [0. 0.]\n",
      " [0. 0.]]\n",
      "[[1. 0. 0.]\n",
      " [0. 1. 0.]\n",
      " [0. 0. 1.]]\n"
     ]
    }
   ],
   "source": [
    "print(np.eye(4,2))\n",
    "print(np.identity(3))"
   ]
  },
  {
   "cell_type": "markdown",
   "metadata": {},
   "source": [
    "## Indices et méthodes d'interrogation des tableaux\n",
    "Les indices commencent à 0, et on peut considérer des parties de tableaux en désignant leurs indices. Il existent de nombreuses possiblités pour cela."
   ]
  },
  {
   "cell_type": "code",
   "execution_count": 8,
   "metadata": {},
   "outputs": [
    {
     "name": "stdout",
     "output_type": "stream",
     "text": [
      "a[0] = 1 et b[0] = 4.0\n",
      "a[1:3] = [3 2]\n",
      "b[1,:] = [1. 3.]\n"
     ]
    }
   ],
   "source": [
    "print(\"a[0] = {} et b[0] = {}\".format(a[0],b[0,0]))\n",
    "print(\"a[1:3] = {}\".format(a[1:3])) # indices 1<=i<3, ie 1 et 2\n",
    "print(\"b[1,:] = {}\".format(b[1,:])) # toute la ligne 1"
   ]
  },
  {
   "cell_type": "markdown",
   "metadata": {},
   "source": [
    "Il existent de nombreuses méthodes sur ces tableaux, en voici quelques unes pour connaître la taille ou le type de données du tableau, entre autres."
   ]
  },
  {
   "cell_type": "code",
   "execution_count": 9,
   "metadata": {},
   "outputs": [
    {
     "name": "stdout",
     "output_type": "stream",
     "text": [
      "(6,) int64\n",
      "(2, 2) float64\n",
      "Is the number 2 in the array a ? True\n",
      "Is the number 2 in the array b ? True\n"
     ]
    }
   ],
   "source": [
    "print(a.shape, a.dtype) # Bien noter que a est déclaré avec des entiers (sans le .)\n",
    "print(b.shape, b.dtype) # alors que b est déclaré avec des float (avec le . décimal).\n",
    "print(\"Is the number 2 in the array a ? {}\".format(2 in a))\n",
    "print(\"Is the number 2 in the array b ? {}\".format(2 in b))"
   ]
  },
  {
   "cell_type": "markdown",
   "metadata": {},
   "source": [
    "## Forme, copies\n",
    "Pour changer la forme d'un tableau, sans changer le nombre total d'éléments, on utilise la fonction `reshape()`."
   ]
  },
  {
   "cell_type": "code",
   "execution_count": 10,
   "metadata": {},
   "outputs": [
    {
     "name": "stdout",
     "output_type": "stream",
     "text": [
      "a vaut [ 1  3  2  0  1 -4] et a.reshape((2,3)) vaut \n",
      "[[ 1  3]\n",
      " [ 2  0]\n",
      " [ 1 -4]]\n"
     ]
    }
   ],
   "source": [
    "c = a.reshape((3,2))\n",
    "print(\"a vaut {} et a.reshape((2,3)) vaut \\n{}\".format(a,c))"
   ]
  },
  {
   "cell_type": "markdown",
   "metadata": {},
   "source": [
    "**Attention**, l'association `=` ne crée pas toujours un nouveau tableau, mais plutôt un nouvel identifiant sur la même zone mémoire."
   ]
  },
  {
   "cell_type": "code",
   "execution_count": 11,
   "metadata": {},
   "outputs": [
    {
     "name": "stdout",
     "output_type": "stream",
     "text": [
      "c vaut \n",
      "[[10  3]\n",
      " [ 2  0]\n",
      " [ 1 -4]]\n",
      "d vaut \n",
      "[[10  3]\n",
      " [ 2  0]\n",
      " [ 1 -4]]\n"
     ]
    }
   ],
   "source": [
    "d = c\n",
    "c[0,0] = 10\n",
    "# Mais les deux identifiant pointent vers la même zone mémoire\n",
    "print(\"c vaut \\n{}\".format(c))\n",
    "print(\"d vaut \\n{}\".format(d))"
   ]
  },
  {
   "cell_type": "markdown",
   "metadata": {},
   "source": [
    "Les deux identifiants pointe vers le même tableau, il s ont donc la même valeur, bien que seul `c[0,0]` est été modifié. Pour créer une copie d'un tableau, il faut utiliser `copy()`."
   ]
  },
  {
   "cell_type": "code",
   "execution_count": 12,
   "metadata": {},
   "outputs": [
    {
     "name": "stdout",
     "output_type": "stream",
     "text": [
      "c vaut \n",
      "[[100   3]\n",
      " [  2   0]\n",
      " [  1  -4]]\n",
      "d vaut \n",
      "[[10  3]\n",
      " [ 2  0]\n",
      " [ 1 -4]]\n"
     ]
    }
   ],
   "source": [
    "d = c.copy()\n",
    "c[0,0] = 100\n",
    "print(\"c vaut \\n{}\".format(c))\n",
    "print(\"d vaut \\n{}\".format(d))"
   ]
  },
  {
   "cell_type": "markdown",
   "metadata": {},
   "source": [
    "## Opérations\n",
    "Les opérations habituelles, $+$, $-$, $*$, $/$ sont distribués sur les éléments des tableaux, de même que les fonctions trigonométriques, puissance, logarithmiques, etc. Pour cela, il faut utiliser les fonction du module `numpy`."
   ]
  },
  {
   "cell_type": "code",
   "execution_count": 13,
   "metadata": {},
   "outputs": [
    {
     "name": "stdout",
     "output_type": "stream",
     "text": [
      "x = \n",
      "[1. 2. 3.]\n",
      "y = \n",
      "[1. 0. 2.]\n",
      "M = \n",
      "[[4. 2. 0.]\n",
      " [2. 4. 2.]\n",
      " [0. 2. 4.]]\n",
      "[1. 2. 3.] [1. 0. 2.] [2. 2. 5.] [0. 2. 1.]\n",
      "[1. 2. 3.] [1. 0. 2.] [1. 0. 6.] [1.         0.         0.66666667] [1.  inf 1.5]\n"
     ]
    },
    {
     "name": "stderr",
     "output_type": "stream",
     "text": [
      "/usr/lib64/python3.6/site-packages/ipykernel_launcher.py:10: RuntimeWarning: divide by zero encountered in true_divide\n",
      "  # Remove the CWD from sys.path while we load stuff.\n"
     ]
    }
   ],
   "source": [
    "x = np.array([1.,2.,3.])\n",
    "y = np.array([1.,0.,2.])\n",
    "M = np.array([[4.,2.,0.],\n",
    "              [2.,4.,2.],\n",
    "              [0.,2.,4.]])\n",
    "print(\"x = \\n{}\\ny = \\n{}\\nM = \\n{}\".format(x,y,M))\n",
    "# x+y, x-y, se comportent comme prévu\n",
    "print(x,y,x+y,x-y)\n",
    "# x*y et x/y distribuent les opérations sur les tableaux\n",
    "print(x,y,x*y,y/x,x/y) # Notons que la division par 0 n'est qu'un avertissement. Le calcul peut continuer"
   ]
  },
  {
   "cell_type": "markdown",
   "metadata": {},
   "source": [
    "On peut avoir des surprses parce que numpy repète un tableau pour le mettre à la bonne taille chaque fois que c'est possible. Par exemple `M+x` semble impossible, mais en fait `+` va répeter `x` en face de chaque ligne de `M`."
   ]
  },
  {
   "cell_type": "code",
   "execution_count": 14,
   "metadata": {},
   "outputs": [
    {
     "name": "stdout",
     "output_type": "stream",
     "text": [
      "[[5. 4. 3.]\n",
      " [3. 6. 5.]\n",
      " [1. 4. 7.]]\n"
     ]
    }
   ],
   "source": [
    "print(M+x)"
   ]
  },
  {
   "cell_type": "markdown",
   "metadata": {},
   "source": [
    "Les fonctions trigonométriques, la fonction racine carrée, etc sont distribuées."
   ]
  },
  {
   "cell_type": "code",
   "execution_count": 15,
   "metadata": {},
   "outputs": [
    {
     "name": "stdout",
     "output_type": "stream",
     "text": [
      "sin(x) = [0.84147098 0.90929743 0.14112001] et sqrt(x) = [1.         1.41421356 1.73205081]\n"
     ]
    }
   ],
   "source": [
    "print(\"sin(x) = {} et sqrt(x) = {}\".format(np.sin(x), np.sqrt(x)))"
   ]
  },
  {
   "cell_type": "markdown",
   "metadata": {},
   "source": [
    "Les nombres $\\pi$ et $\\text{e}$ sont donc connus du module `numpy`."
   ]
  },
  {
   "cell_type": "code",
   "execution_count": 16,
   "metadata": {},
   "outputs": [
    {
     "name": "stdout",
     "output_type": "stream",
     "text": [
      "pi = 3.141592653589793 et e = 2.718281828459045\n"
     ]
    }
   ],
   "source": [
    "print(\"pi = {} et e = {}\".format(np.pi, np.e))"
   ]
  },
  {
   "cell_type": "markdown",
   "metadata": {},
   "source": [
    "Il existe aussi des fonctions globales sur les tableaux, et des méthodes pour faire des comparaisons, trouver des indices, etc."
   ]
  },
  {
   "cell_type": "code",
   "execution_count": 17,
   "metadata": {},
   "outputs": [
    {
     "name": "stdout",
     "output_type": "stream",
     "text": [
      "La somme des coefficients de M est 20.0 et leur produit est 0.0\n",
      "Rappelons que x = [1. 2. 3.] et y = [1. 0. 2.]\n",
      "x = y ? [ True False False] \n",
      "x >= y ? [ True  True  True]\n",
      "all(x = y) ? False \n",
      "all(x >= y) ? True\n",
      "any(x = y) ? True \n",
      "any(x >= y) ? True\n"
     ]
    }
   ],
   "source": [
    "print(\"La somme des coefficients de M est {} et leur produit est {}\".\n",
    "      format(np.sum(M), np.prod(M)))\n",
    "print(\"Rappelons que x = {} et y = {}\".format(x,y))\n",
    "print(\"x = y ? {} \\nx >= y ? {}\".format(x==y,x>=y))\n",
    "print(\"all(x = y) ? {} \\nall(x >= y) ? {}\".format(np.all(x==y),np.all(x>=y)))\n",
    "print(\"any(x = y) ? {} \\nany(x >= y) ? {}\".format(np.any(x==y),np.any(x>=y)))"
   ]
  },
  {
   "cell_type": "markdown",
   "metadata": {},
   "source": [
    "## Algèbre linéaire\n",
    "Le produit matriciel, au sens mathématique, est réalisé par la fonction `dot()`., Il existe aussi\n",
    "- `np.outer` : produit extérieur\n",
    "- `np.inner` : produit scalaire\n",
    "- `np.cross` : produit vectoriel\n",
    "\n",
    "Et dans le sous-module `np.linalg`, on trouve les méthodes\n",
    "- `np.linalg.solve` : résolution d'un système linéaire (pour un système plein)\n",
    "- `np.linalg.eig` : valeurs propres et vecteurs propres"
   ]
  },
  {
   "cell_type": "code",
   "execution_count": 19,
   "metadata": {},
   "outputs": [
    {
     "name": "stdout",
     "output_type": "stream",
     "text": [
      "M*x = [ 8. 16. 16.]\n",
      "M^2 = \n",
      "[[20. 16.  4.]\n",
      " [16. 24. 16.]\n",
      " [ 4. 16. 20.]]\n",
      "Solution de Mx=y : [1. 2. 3.]\n",
      "Vecteur erreur : [ 2.22044605e-16 -4.44089210e-16  4.44089210e-16], \n",
      "et sa norme : 6.661338147750939e-16\n",
      "Les valeurs propres de M : [6.82842712 4.         1.17157288]\n"
     ]
    }
   ],
   "source": [
    "y = np.dot(M,x)\n",
    "print(\"M*x = {}\".format(y))\n",
    "M_carre = np.dot(M,M)\n",
    "print(\"M^2 = \\n{}\".format(M_carre))\n",
    "\n",
    "z = np.linalg.solve(M,y)\n",
    "print(\"Solution de Mx=y : {}\".format(z))\n",
    "print(\"Vecteur erreur : {}, \\net sa norme : {:}\".format(x-z, np.linalg.norm(x-z)))\n",
    "[D,P] = np.linalg.eig(M)\n",
    "print(\"Les valeurs propres de M : {}\".format(D))"
   ]
  },
  {
   "cell_type": "markdown",
   "metadata": {},
   "source": [
    "## Aide\n",
    "On peut voir ce qui est disponible dans ce sous-module avec l'aide."
   ]
  },
  {
   "cell_type": "code",
   "execution_count": 20,
   "metadata": {},
   "outputs": [
    {
     "name": "stdout",
     "output_type": "stream",
     "text": [
      "Help on package numpy.linalg in numpy:\n",
      "\n",
      "NAME\n",
      "    numpy.linalg\n",
      "\n",
      "DESCRIPTION\n",
      "    Core Linear Algebra Tools\n",
      "    -------------------------\n",
      "    Linear algebra basics:\n",
      "    \n",
      "    - norm            Vector or matrix norm\n",
      "    - inv             Inverse of a square matrix\n",
      "    - solve           Solve a linear system of equations\n",
      "    - det             Determinant of a square matrix\n",
      "    - lstsq           Solve linear least-squares problem\n",
      "    - pinv            Pseudo-inverse (Moore-Penrose) calculated using a singular\n",
      "                      value decomposition\n",
      "    - matrix_power    Integer power of a square matrix\n",
      "    \n",
      "    Eigenvalues and decompositions:\n",
      "    \n",
      "    - eig             Eigenvalues and vectors of a square matrix\n",
      "    - eigh            Eigenvalues and eigenvectors of a Hermitian matrix\n",
      "    - eigvals         Eigenvalues of a square matrix\n",
      "    - eigvalsh        Eigenvalues of a Hermitian matrix\n",
      "    - qr              QR decomposition of a matrix\n",
      "    - svd             Singular value decomposition of a matrix\n",
      "    - cholesky        Cholesky decomposition of a matrix\n",
      "    \n",
      "    Tensor operations:\n",
      "    \n",
      "    - tensorsolve     Solve a linear tensor equation\n",
      "    - tensorinv       Calculate an inverse of a tensor\n",
      "    \n",
      "    Exceptions:\n",
      "    \n",
      "    - LinAlgError     Indicates a failed linear algebra operation\n",
      "\n",
      "PACKAGE CONTENTS\n",
      "    _umath_linalg\n",
      "    info\n",
      "    lapack_lite\n",
      "    linalg\n",
      "    setup\n",
      "    tests (package)\n",
      "\n",
      "DATA\n",
      "    absolute_import = _Feature((2, 5, 0, 'alpha', 1), (3, 0, 0, 'alpha', 0...\n",
      "    division = _Feature((2, 2, 0, 'alpha', 2), (3, 0, 0, 'alpha', 0), 8192...\n",
      "    print_function = _Feature((2, 6, 0, 'alpha', 2), (3, 0, 0, 'alpha', 0)...\n",
      "\n",
      "FILE\n",
      "    /usr/lib64/python3.6/site-packages/numpy/linalg/__init__.py\n",
      "\n",
      "\n"
     ]
    }
   ],
   "source": [
    "help(np.linalg)"
   ]
  },
  {
   "cell_type": "markdown",
   "metadata": {},
   "source": [
    "L'aide complète de `numpy` est disponible aussi. Elle est plus longue, et ne rentre pas dans ce document. Par contre, on peut voir la documentation de la méthode de résolution des systèmes linéaires."
   ]
  },
  {
   "cell_type": "code",
   "execution_count": 21,
   "metadata": {},
   "outputs": [
    {
     "name": "stdout",
     "output_type": "stream",
     "text": [
      "Help on function solve in module numpy.linalg.linalg:\n",
      "\n",
      "solve(a, b)\n",
      "    Solve a linear matrix equation, or system of linear scalar equations.\n",
      "    \n",
      "    Computes the \"exact\" solution, `x`, of the well-determined, i.e., full\n",
      "    rank, linear matrix equation `ax = b`.\n",
      "    \n",
      "    Parameters\n",
      "    ----------\n",
      "    a : (..., M, M) array_like\n",
      "        Coefficient matrix.\n",
      "    b : {(..., M,), (..., M, K)}, array_like\n",
      "        Ordinate or \"dependent variable\" values.\n",
      "    \n",
      "    Returns\n",
      "    -------\n",
      "    x : {(..., M,), (..., M, K)} ndarray\n",
      "        Solution to the system a x = b.  Returned shape is identical to `b`.\n",
      "    \n",
      "    Raises\n",
      "    ------\n",
      "    LinAlgError\n",
      "        If `a` is singular or not square.\n",
      "    \n",
      "    Notes\n",
      "    -----\n",
      "    \n",
      "    .. versionadded:: 1.8.0\n",
      "    \n",
      "    Broadcasting rules apply, see the `numpy.linalg` documentation for\n",
      "    details.\n",
      "    \n",
      "    The solutions are computed using LAPACK routine _gesv\n",
      "    \n",
      "    `a` must be square and of full-rank, i.e., all rows (or, equivalently,\n",
      "    columns) must be linearly independent; if either is not true, use\n",
      "    `lstsq` for the least-squares best \"solution\" of the\n",
      "    system/equation.\n",
      "    \n",
      "    References\n",
      "    ----------\n",
      "    .. [1] G. Strang, *Linear Algebra and Its Applications*, 2nd Ed., Orlando,\n",
      "           FL, Academic Press, Inc., 1980, pg. 22.\n",
      "    \n",
      "    Examples\n",
      "    --------\n",
      "    Solve the system of equations ``3 * x0 + x1 = 9`` and ``x0 + 2 * x1 = 8``:\n",
      "    \n",
      "    >>> a = np.array([[3,1], [1,2]])\n",
      "    >>> b = np.array([9,8])\n",
      "    >>> x = np.linalg.solve(a, b)\n",
      "    >>> x\n",
      "    array([ 2.,  3.])\n",
      "    \n",
      "    Check that the solution is correct:\n",
      "    \n",
      "    >>> np.allclose(np.dot(a, x), b)\n",
      "    True\n",
      "\n"
     ]
    }
   ],
   "source": [
    "help(np.linalg.solve)"
   ]
  }
 ],
 "metadata": {
  "kernelspec": {
   "display_name": "Python 3",
   "language": "python3",
   "name": "python3"
  },
  "language_info": {
   "codemirror_mode": {
    "name": "ipython",
    "version": 3
   },
   "file_extension": ".py",
   "mimetype": "text/x-python",
   "name": "python",
   "nbconvert_exporter": "python",
   "pygments_lexer": "ipython3",
   "version": "3.6.9"
  }
 },
 "nbformat": 4,
 "nbformat_minor": 2
}
