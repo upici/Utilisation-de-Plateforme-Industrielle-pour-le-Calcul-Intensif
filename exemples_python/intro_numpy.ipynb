{
 "cells": [
  {
   "cell_type": "markdown",
   "metadata": {},
   "source": [
    "# Brève introduction à Numpy\n",
    "`numpy` est un module particulier, qui implémente de nouveaux types de variables: les tableaux multidimensionnels de nombres. Ce module implémente également des fonctions compilées qui sont très efficaces lorsqu'elles sont appliquées globalement sur ces tableaux."
   ]
  },
  {
   "cell_type": "markdown",
   "metadata": {},
   "source": [
    "## Premier exemple de vectorisation \n",
    "On importe le module `numpy` et on le nomme `np` pour simplifier l'écriture ensuite."
   ]
  },
  {
   "cell_type": "code",
   "execution_count": null,
   "metadata": {},
   "outputs": [],
   "source": [
    "import numpy as np"
   ]
  },
  {
   "cell_type": "markdown",
   "metadata": {},
   "source": [
    "On peut utiliser le module `time` pour mesurer le temps d'exécution du code. Il existe une meilleure solution qui s'appelle `timit`, mais dont l'utilisation est plus technique."
   ]
  },
  {
   "cell_type": "code",
   "execution_count": null,
   "metadata": {},
   "outputs": [],
   "source": [
    "import time"
   ]
  },
  {
   "cell_type": "markdown",
   "metadata": {},
   "source": [
    "Supposons par exemple que l'on veut calculer la somme de $k=0$ à $p$ des sommes $0 \\le i < 10^k$ de $10^{-k}$, qui est en théorie égale à $p+1$."
   ]
  },
  {
   "cell_type": "code",
   "execution_count": null,
   "metadata": {},
   "outputs": [],
   "source": [
    "p = 8\n",
    "t1 = time.process_time()\n",
    "S = 0.0\n",
    "for k in range(p+1):\n",
    "    for i in range(10**k):\n",
    "        S = S + 10.0**(-k)\n",
    "t2 = time.process_time()\n",
    "print(\"Somme : {0:13.6e} -- erreur : {1:13.6e} -- durée : {2:13.6e}\".\n",
    "      format(S,p+1-S,t2-t1))"
   ]
  },
  {
   "cell_type": "markdown",
   "metadata": {},
   "source": [
    "Ci-dessus, l'affichage a été mis en forme avec la fonction `format()` de python (python 3 seulement)."
   ]
  },
  {
   "cell_type": "markdown",
   "metadata": {},
   "source": [
    "À la place, on peut, par exemple, créer un tableau pour chacune des étapes (boucle $i$ ci-dessous), et observer que le calcul est beaucoup plus rapide."
   ]
  },
  {
   "cell_type": "code",
   "execution_count": null,
   "metadata": {},
   "outputs": [],
   "source": [
    "t1 = time.process_time()\n",
    "S = 0.0\n",
    "for k in range(p+1):\n",
    "    N = np.ones(10**k) * 10**(-k)\n",
    "    S = S + np.sum(N)\n",
    "t2 = time.process_time()\n",
    "print(\"Somme : {0:13.6e} -- erreur : {1:13.6e} -- durée : {2:13.6e}\".\n",
    "      format(S,p+1-S,t2-t1))"
   ]
  },
  {
   "cell_type": "markdown",
   "metadata": {},
   "source": [
    "**On voit donc l'importance de vectoriser au maximum les opérations**, du moins tant que le calcul rentre dans la mémoire."
   ]
  },
  {
   "cell_type": "markdown",
   "metadata": {},
   "source": [
    "## Exemples de déclaration de tableaux\n",
    "Et voici quelques exemples de déclaration de tableau."
   ]
  },
  {
   "cell_type": "code",
   "execution_count": null,
   "metadata": {},
   "outputs": [],
   "source": [
    "a = np.array([1,3,2,0,1,-4])\n",
    "print(\"a = \\n{} est de type {}\".format(a,type(a)))\n",
    "\n",
    "b = np.array([[4.,2.],[1.,3.]])\n",
    "print(\"b = \\n{} est de type {}\".format(b,type(b)))"
   ]
  },
  {
   "cell_type": "markdown",
   "metadata": {},
   "source": [
    "Les fonctions ci-dessous permettent d'initialiser des tableaux à des valeurs courantes: $0$, $1$, une suite de nombre. Par ailleurs, ils servent à réserver a priori la mémoire pour un tableau lorsque l'on connait sa taille à l'avance."
   ]
  },
  {
   "cell_type": "code",
   "execution_count": null,
   "metadata": {
    "scrolled": true
   },
   "outputs": [],
   "source": [
    "print(np.zeros((2,10), dtype=int)) # crée un tableau de float initialisé à 0\n",
    "print(np.ones((3,4)))   # idem, initialisé à 1\n",
    "print(np.arange(5))     # crée un tableau d'int i tels que 0<=i<5\n",
    "print(np.arange(5, dtype=float)) # pour forcer un float"
   ]
  },
  {
   "cell_type": "markdown",
   "metadata": {},
   "source": [
    "D'autres fonctions utiles:\n",
    "- `np.linspace` : maillage régulier d'un intervalle 1D\n",
    "- `np.eye`, `np.identity` : matrice identité\n",
    "- `np.meshgrid`, `np.mgrid` : maillages d'un rectangle 2D\n",
    "- ..."
   ]
  },
  {
   "cell_type": "code",
   "execution_count": null,
   "metadata": {},
   "outputs": [],
   "source": [
    "print(np.eye(4,2))\n",
    "print(np.identity(3))"
   ]
  },
  {
   "cell_type": "markdown",
   "metadata": {},
   "source": [
    "## Indices et méthodes d'interrogation des tableaux\n",
    "Les indices commencent à 0, et on peut considérer des parties de tableaux en désignant leurs indices. Il existent de nombreuses possiblités pour cela."
   ]
  },
  {
   "cell_type": "code",
   "execution_count": null,
   "metadata": {},
   "outputs": [],
   "source": [
    "print(\"a[0] = {} et b[0,0] = {}\".format(a[0],b[0,0]))\n",
    "print(\"a[1:3] = {}\".format(a[1:3])) # indices 1<=i<3, ie 1 et 2\n",
    "print(\"b[1,:] = {}\".format(b[1,:])) # toute la ligne 1"
   ]
  },
  {
   "cell_type": "markdown",
   "metadata": {},
   "source": [
    "Il existent de nombreuses méthodes sur ces tableaux, en voici quelques unes pour connaître la taille ou le type de données du tableau, entre autres."
   ]
  },
  {
   "cell_type": "code",
   "execution_count": null,
   "metadata": {},
   "outputs": [],
   "source": [
    "print(a.shape, a.dtype) # Bien noter que a est déclaré avec des entiers (sans le .)\n",
    "print(b.shape, b.dtype) # alors que b est déclaré avec des float (avec le . décimal).\n",
    "print(\"Is the number 2 in the array a ? {}\".format(2 in a))\n",
    "print(\"Is the number 2 in the array b ? {}\".format(6 in b))"
   ]
  },
  {
   "cell_type": "markdown",
   "metadata": {},
   "source": [
    "## Forme, copies\n",
    "Pour changer la forme d'un tableau, sans changer le nombre total d'éléments, on utilise la fonction `reshape()`."
   ]
  },
  {
   "cell_type": "code",
   "execution_count": null,
   "metadata": {},
   "outputs": [],
   "source": [
    "c = a.reshape((3,2))\n",
    "print(\"a vaut {} et a.reshape((2,3)) vaut \\n{}\".format(a,c))\n",
    "print(type(c), c.dtype, a.shape, c.shape)"
   ]
  },
  {
   "cell_type": "markdown",
   "metadata": {},
   "source": [
    "**Attention**, l'association `=` ne crée pas toujours un nouveau tableau, mais plutôt un nouvel identifiant sur la même zone mémoire."
   ]
  },
  {
   "cell_type": "code",
   "execution_count": null,
   "metadata": {},
   "outputs": [],
   "source": [
    "d = c\n",
    "c[0,0] = 10\n",
    "# Mais les deux identifiant pointent vers la même zone mémoire\n",
    "print(\"c vaut \\n{}\".format(c))\n",
    "print(\"d vaut \\n{}\".format(d))"
   ]
  },
  {
   "cell_type": "markdown",
   "metadata": {},
   "source": [
    "Les deux identifiants pointe vers le même tableau, il s ont donc la même valeur, bien que seul `c[0,0]` est été modifié. Pour créer une copie d'un tableau, il faut utiliser `copy()`."
   ]
  },
  {
   "cell_type": "code",
   "execution_count": null,
   "metadata": {},
   "outputs": [],
   "source": [
    "d = c.copy()\n",
    "c[0,0] = 100\n",
    "print(\"c vaut \\n{}\".format(c))\n",
    "print(\"d vaut \\n{}\".format(d))"
   ]
  },
  {
   "cell_type": "markdown",
   "metadata": {},
   "source": [
    "## Opérations\n",
    "Les opérations habituelles, $+$, $-$, $*$, $/$ sont distribués sur les éléments des tableaux, de même que les fonctions trigonométriques, puissance, logarithmiques, etc. Pour cela, il faut utiliser les fonction du module `numpy`."
   ]
  },
  {
   "cell_type": "code",
   "execution_count": null,
   "metadata": {},
   "outputs": [],
   "source": [
    "x = np.array([1.,2.,3.])\n",
    "y = np.array([1.,0.,2.])\n",
    "M = np.array([[4.,2.,0.],\n",
    "              [2.,4.,2.],\n",
    "              [0.,2.,4.]])\n",
    "print(\"x = \\n{}\\ny = \\n{}\\nM = \\n{}\".format(x,y,M))\n",
    "# x+y, x-y, se comportent comme prévu\n",
    "print(x,y,x+y,x-y)\n",
    "# x*y et x/y distribuent les opérations sur les tableaux\n",
    "print(x,y,x*y,y/x,x/y,M*M) # Notons que la division par 0 n'est qu'un avertissement. Le calcul peut continuer"
   ]
  },
  {
   "cell_type": "code",
   "execution_count": null,
   "metadata": {},
   "outputs": [],
   "source": [
    "z = x/y, print(z)"
   ]
  },
  {
   "cell_type": "markdown",
   "metadata": {},
   "source": [
    "On peut avoir des surprses parce que numpy repète un tableau pour le mettre à la bonne taille chaque fois que c'est possible. Par exemple `M+x` semble impossible, mais en fait `+` va répeter `x` en face de chaque ligne de `M`."
   ]
  },
  {
   "cell_type": "code",
   "execution_count": null,
   "metadata": {},
   "outputs": [],
   "source": [
    "print(M+np.array([1,2,3]))"
   ]
  },
  {
   "cell_type": "markdown",
   "metadata": {},
   "source": [
    "Les fonctions trigonométriques, la fonction racine carrée, etc sont distribuées."
   ]
  },
  {
   "cell_type": "code",
   "execution_count": null,
   "metadata": {},
   "outputs": [],
   "source": [
    "print(\"sin(x) = {} et sqrt(x) = {}\".format(np.sin(x), np.sqrt(x)))"
   ]
  },
  {
   "cell_type": "markdown",
   "metadata": {},
   "source": [
    "Les nombres $\\pi$ et $\\text{e}$ sont donc connus du module `numpy`."
   ]
  },
  {
   "cell_type": "code",
   "execution_count": null,
   "metadata": {},
   "outputs": [],
   "source": [
    "print(\"pi = {} et e = {}\".format(np.pi, np.e))"
   ]
  },
  {
   "cell_type": "markdown",
   "metadata": {},
   "source": [
    "Il existe aussi des fonctions globales sur les tableaux, et des méthodes pour faire des comparaisons, trouver des indices, etc."
   ]
  },
  {
   "cell_type": "code",
   "execution_count": null,
   "metadata": {},
   "outputs": [],
   "source": [
    "print(\"La somme des coefficients de M est {} et leur produit est {}\".\n",
    "      format(np.sum(M), np.prod(M)))\n",
    "print(\"Rappelons que x = {} et y = {}\".format(x,y))\n",
    "print(\"x = y ? {} \\nx >= y ? {}\".format(x==y,x>=y))\n",
    "print(\"all(x = y) ? {} \\nall(x >= y) ? {}\".format(np.all(x==y),np.all(x>=y)))\n",
    "print(\"any(x = y) ? {} \\nany(x >= y) ? {}\".format(np.any(x==y),np.any(x>=y)))"
   ]
  },
  {
   "cell_type": "markdown",
   "metadata": {},
   "source": [
    "## Algèbre linéaire\n",
    "Le produit matriciel, au sens mathématique, est réalisé par la fonction `dot()`., Il existe aussi\n",
    "- `np.outer` : produit extérieur\n",
    "- `np.inner` : produit scalaire\n",
    "- `np.cross` : produit vectoriel\n",
    "\n",
    "Et dans le sous-module `np.linalg`, on trouve les méthodes\n",
    "- `np.linalg.solve` : résolution d'un système linéaire (pour un système plein)\n",
    "- `np.linalg.eig` : valeurs propres et vecteurs propres"
   ]
  },
  {
   "cell_type": "code",
   "execution_count": null,
   "metadata": {},
   "outputs": [],
   "source": [
    "y = np.dot(M,x)\n",
    "print(\"M*x = {}\".format(y))\n",
    "M_carre = np.dot(M,M)\n",
    "print(\"M^2 = \\n{}\".format(M_carre))\n",
    "\n",
    "z = np.linalg.solve(M,y)\n",
    "print(\"Solution de Mx=y : {}\".format(z))\n",
    "print(\"Vecteur erreur : {}, \\net sa norme : {:}\".format(x-z, np.linalg.norm(x-z)))\n",
    "[D,P] = np.linalg.eig(M)\n",
    "print(\"Les valeurs propres de M : {}\".format(D))"
   ]
  },
  {
   "cell_type": "markdown",
   "metadata": {},
   "source": [
    "## Aide\n",
    "On peut voir ce qui est disponible dans ce sous-module avec l'aide."
   ]
  },
  {
   "cell_type": "code",
   "execution_count": null,
   "metadata": {},
   "outputs": [],
   "source": [
    "help(np.linalg)"
   ]
  },
  {
   "cell_type": "markdown",
   "metadata": {},
   "source": [
    "L'aide complète de `numpy` est disponible aussi. Elle est plus longue, et ne rentre pas dans ce document. Par contre, on peut voir la documentation de la méthode de résolution des systèmes linéaires."
   ]
  },
  {
   "cell_type": "code",
   "execution_count": null,
   "metadata": {},
   "outputs": [],
   "source": [
    "help(np.linalg.solve)"
   ]
  },
  {
   "cell_type": "code",
   "execution_count": null,
   "metadata": {},
   "outputs": [],
   "source": []
  }
 ],
 "metadata": {
  "kernelspec": {
   "display_name": "Python 3",
   "language": "python",
   "name": "python3"
  },
  "language_info": {
   "codemirror_mode": {
    "name": "ipython",
    "version": 3
   },
   "file_extension": ".py",
   "mimetype": "text/x-python",
   "name": "python",
   "nbconvert_exporter": "python",
   "pygments_lexer": "ipython3",
   "version": "3.7.8"
  }
 },
 "nbformat": 4,
 "nbformat_minor": 2
}
