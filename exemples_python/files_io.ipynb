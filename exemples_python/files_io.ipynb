{
 "cells": [
  {
   "cell_type": "markdown",
   "metadata": {},
   "source": [
    "# Écriture et lecture dans un fichier texte\n",
    "Pour ouvrir, écrire et lire dans un fichier, il existe de nombreuses méthodes. De manière générale:"
   ]
  },
  {
   "cell_type": "code",
   "execution_count": null,
   "metadata": {},
   "outputs": [],
   "source": [
    "fid = open(\"test-0.txt\",\"w\", encoding=\"utf-8\")"
   ]
  },
  {
   "cell_type": "markdown",
   "metadata": {},
   "source": [
    "On utilise \"w\" (write) pour une ouverture en écriture, et \"r\" (read) pour lire. Il existe d'autres possibilités. Pour un fichier texte, on peu spécifier l'encodage des caractères.\n",
    "\n",
    "Voilà comment on écrit du contenu dans le fichier"
   ]
  },
  {
   "cell_type": "code",
   "execution_count": null,
   "metadata": {},
   "outputs": [],
   "source": [
    "fid.write(\"mon premier fichier \")\n",
    "fid.write(\"et ceci continue sur la même ligne \\n\")\n",
    "fid.write(\"et maintenant sur une nouvelle ligne \\n\")"
   ]
  },
  {
   "cell_type": "markdown",
   "metadata": {},
   "source": [
    "Pour écrire des nombres, il faut les formater comme un chaine de caractères, par exemple comme ci-dessous. Voir la documentation pour en savoir plus sur les formats. \n",
    "\n",
    "Pour écrire les 10 premiers nombres entiers, 0, 1, 2, ... 9."
   ]
  },
  {
   "cell_type": "code",
   "execution_count": null,
   "metadata": {},
   "outputs": [],
   "source": [
    "fid.write(\"{0} \\n\".format(list(range(10))))"
   ]
  },
  {
   "cell_type": "markdown",
   "metadata": {},
   "source": [
    "Attention, avec cette syntaxe, on écrit [0,1, ... 10]. On aurait pu écrire ces 10 nombres sans les [ ] en faisant une boucle"
   ]
  },
  {
   "cell_type": "code",
   "execution_count": null,
   "metadata": {},
   "outputs": [],
   "source": [
    "for i in range(10):\n",
    "    fid.write(\"{0} \".format(i))"
   ]
  },
  {
   "cell_type": "markdown",
   "metadata": {},
   "source": [
    "À la fin, il faut fermet le fichier"
   ]
  },
  {
   "cell_type": "code",
   "execution_count": null,
   "metadata": {},
   "outputs": [],
   "source": [
    "fid.close()"
   ]
  },
  {
   "cell_type": "markdown",
   "metadata": {},
   "source": [
    "Pour ne pas avoir à ouvrir puis fermer le fichier, on peut aussi utiliser la syntaxe suivante:"
   ]
  },
  {
   "cell_type": "code",
   "execution_count": null,
   "metadata": {},
   "outputs": [],
   "source": [
    "with open(\"test-1.txt\", \"w\", encoding = \"utf-8\") as fid:\n",
    "    fid.write(\"mon premier fichier \")\n",
    "    fid.write(\"et ceci continue sur la même ligne \\n\")\n",
    "    fid.write(\"et maintenant sur une nouvelle ligne \\n\")\n",
    "    fid.write(\"{0} \\n\".format(list(range(10))))"
   ]
  },
  {
   "cell_type": "markdown",
   "metadata": {},
   "source": [
    "Et du coup, le fid.close() est fait automatiquement."
   ]
  },
  {
   "cell_type": "code",
   "execution_count": null,
   "metadata": {},
   "outputs": [],
   "source": [
    "cat test-0.txt"
   ]
  },
  {
   "cell_type": "code",
   "execution_count": null,
   "metadata": {},
   "outputs": [],
   "source": [
    "cat test-1.txt"
   ]
  }
 ],
 "metadata": {
  "kernelspec": {
   "display_name": "Python 3",
   "language": "python",
   "name": "python3"
  },
  "language_info": {
   "codemirror_mode": {
    "name": "ipython",
    "version": 3
   },
   "file_extension": ".py",
   "mimetype": "text/x-python",
   "name": "python",
   "nbconvert_exporter": "python",
   "pygments_lexer": "ipython3",
   "version": "3.7.8"
  }
 },
 "nbformat": 4,
 "nbformat_minor": 4
}
