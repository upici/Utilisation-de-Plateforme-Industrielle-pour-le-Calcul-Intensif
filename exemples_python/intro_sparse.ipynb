{
 "cells": [
  {
   "cell_type": "markdown",
   "metadata": {},
   "source": [
    "# Matrices creuses dans `scipy.sparse`\n",
    "Nous introduisont ce module jusqu'à être capable de résoudre une équation aux dérivées partielles simple par une méthode de différences finies. Nous aurons besoin des modules suivant."
   ]
  },
  {
   "cell_type": "code",
   "execution_count": null,
   "metadata": {},
   "outputs": [],
   "source": [
    "import numpy as np              # Grands tableaux de nombres\n",
    "import scipy.sparse as sparse   # Algèbre linéaire creuse\n",
    "import matplotlib.pyplot as plt # Pour les graphiques"
   ]
  },
  {
   "cell_type": "markdown",
   "metadata": {},
   "source": [
    "Quelques exemples de matrices creuses: l'identité et une matrice creuse générée aléatoirement. On peut représenter graphiquement les coefficients non nuls de ces matrices pour avoir une idée de leur remplissage, qui s'appelle le *profil*."
   ]
  },
  {
   "cell_type": "code",
   "execution_count": null,
   "metadata": {},
   "outputs": [],
   "source": [
    "Id_sp = sparse.eye(100)\n",
    "print(\"Matrice Identité au format creux: \\n{}\".format(Id_sp))\n",
    "print(type(Id_sp))"
   ]
  },
  {
   "cell_type": "markdown",
   "metadata": {},
   "source": [
    "Voilà la visualisation des coefficients non nul, sur deux exemples."
   ]
  },
  {
   "cell_type": "code",
   "execution_count": null,
   "metadata": {},
   "outputs": [],
   "source": [
    "Id_sp = sparse.eye(100)\n",
    "plt.spy(Id_sp)\n",
    "plt.title(\"Matrice Identité\")\n",
    "plt.show()\n",
    "\n",
    "A = sparse.rand(200,200, density=0.01)\n",
    "plt.spy(A)\n",
    "plt.title(\"Matrice aléatoire\")\n",
    "plt.show()\n",
    "print(type(A))"
   ]
  },
  {
   "cell_type": "code",
   "execution_count": null,
   "metadata": {},
   "outputs": [],
   "source": [
    "print(type(A))"
   ]
  },
  {
   "cell_type": "markdown",
   "metadata": {},
   "source": [
    "Supposons maintenant que l'on souhaite résoudre le problème $au-\\Delta u = f$ dans le carré $\\Omega = (0,1) \\times (0,1)$, avec $\\partial_n u = 0$ sur le bord de $\\Omega$. On suppose que $a>0$, et $f$ est une fonction donnée.\n",
    "\n",
    "On construit une fonction qui renvoie la matrice de la discrétisation par différences finies de $u \\mapsto -\\Delta u$ dans le carré $(x_\\text{min},x_\\text{max}) \\times (y_\\text{min},y_\\text{max})$ avec les conditions $\\partial_n u = 0$ au bord. Le carré $\\Omega$ est découpé en $N_x$ par $N_y$ sous-intervalles, ce qui donne une matrice de taille $(N_x+1)(Ny+1) \\times (N_x+1)(Ny+1)$."
   ]
  },
  {
   "cell_type": "code",
   "execution_count": null,
   "metadata": {},
   "outputs": [],
   "source": [
    "def matrix_neumann2D(Omega,Nx,Ny):\n",
    "    \"\"\"Returns the matrix that discretizes the mapping u --> -Laplacian(u)\n",
    "on the domain Omega = [xmin,xmax,ymin,ymax] split into Nx parts in x\n",
    "and Ny parts in y. The final matrix is a scipy.sparse CSR matrix. It\n",
    "is of size (Nx+1)*(Ny+1).\"\"\"\n",
    "    \n",
    "    hx = (Omega[1]-Omega[0])/Nx\n",
    "    hy = (Omega[3]-Omega[2])/Ny\n",
    "    hx2 = hx*hx\n",
    "    hy2 = hy*hy\n",
    "\n",
    "    # Les inconnues sont numérotés de 0 à Nx suivant x et 0 à Ny\n",
    "    # suivant y. La taille du problème est donc (Nx+1)*(Ny+1).\n",
    "\n",
    "    # Cela correspond à x_i = xmin + i*hx et y_j = ymin + j*hy, et \n",
    "    # la numérotation (i,j) --> k := (Nx+1)*j + i pour i=0 à Nx et j = 0 à Ny.\n",
    " \n",
    "    # Pour -Laplacien(u), la matrice est constituée de (Ny+1)x(Ny+1)\n",
    "    # blocs de taille (Nx+1)x(Nx+1), de la forme\n",
    "    #\n",
    "    # A = [ A0 B              ]\n",
    "    #     [ B  A1 B           ]\n",
    "    #     [    B  A1 B        ]\n",
    "    #     [       .  .  .     ]\n",
    "    #     [           B A1 B  ]\n",
    "    #     [             B  A0 ]\n",
    "    #\n",
    "    # Au final, on peut commencer à remplir avec des diagonales\n",
    "    N = (1+Nx)*(1+Ny)\n",
    "    diags = np.zeros((5,N))\n",
    "    # La diagonale est constante\n",
    "    diags[2,:] = 2./hx2+2./hy2\n",
    "    # Diagonale -1\n",
    "    diags[1,:] = -1./hx2                      # en général\n",
    "    diags[1,np.arange(Nx,N,Nx+1)] = 0.        # bord gauche\n",
    "    diags[1,np.arange(Nx-1,N,Nx+1)] = -2./hx2 # bord droit\n",
    "    # Diagonale +1\n",
    "    diags[3,:] = -1./hx2                   # en général\n",
    "    diags[3,np.arange(0,N,Nx+1)] = 0.      # bord droit\n",
    "    diags[3,np.arange(1,N,Nx+1)] = -2./hx2 # bord gauche\n",
    "    # Diagonale -(Nx+1)\n",
    "    diags[0,:] = -1./hy2                       # en général\n",
    "    diags[0,(Nx+1)*(Ny-1):(Nx+1)*Ny] = -2./hy2 # bord bas\n",
    "    # Diagonale +(Nx+1)\n",
    "    diags[4,:] = -1./hy2             # en général\n",
    "    diags[4,Nx+1:2*(Nx+1)] = -2./hy2 # bord haut\n",
    "\n",
    "    # Construction de la matrice creuse de u --> -Laplacien(u)\n",
    "    A = sparse.spdiags(diags,[-(Nx+1),-1,0,1,(Nx+1)], (Nx+1)*(Ny+1),\n",
    "                       (Nx+1)*(Ny+1), format=\"csr\")\n",
    "\n",
    "    return A"
   ]
  },
  {
   "cell_type": "markdown",
   "metadata": {},
   "source": [
    "Munis de cette fonction, nous pouvons simplement résoudre notre problème. Il nous suffit de connaître la numérotation des sommets (ie l'ordre des inconnues dans les vecteurs), qui est $k = i + j(Nx+1)$ pour $i=0\\ldots N_x$ et $j = 0\\ldots N_y$.\n",
    "\n",
    "Définissons le domaine et sa discrétisation."
   ]
  },
  {
   "cell_type": "code",
   "execution_count": null,
   "metadata": {},
   "outputs": [],
   "source": [
    "Omega = np.array([0.,1.,0.,1.])\n",
    "Nx,Ny = 3,3"
   ]
  },
  {
   "cell_type": "markdown",
   "metadata": {},
   "source": [
    "La fonction $f$ du second membre de l'équation, et le coefficient $a$."
   ]
  },
  {
   "cell_type": "code",
   "execution_count": null,
   "metadata": {},
   "outputs": [],
   "source": [
    "def f(x,y):\n",
    "    return 1.\n",
    "a = 1."
   ]
  },
  {
   "cell_type": "markdown",
   "metadata": {},
   "source": [
    "Nous pouvons alors calculer le vecteur second membre du système linéaire, par exemple en faisant une boucle sur les points du maillage. Une méthode plus efficace consisterait à vectoriser cette fonction."
   ]
  },
  {
   "cell_type": "code",
   "execution_count": null,
   "metadata": {},
   "outputs": [],
   "source": [
    "x = np.linspace(Omega[0],Omega[1],Nx+1)\n",
    "y = np.linspace(Omega[2],Omega[3],Ny+1)\n",
    "F = np.zeros((Nx+1)*(Ny+1)) # Allocation mémoire\n",
    "for i in np.arange(Nx+1):\n",
    "    for j in np.arange(Ny+1):\n",
    "        k = i+j*(Nx+1)\n",
    "        F[k] = f(x[i],y[j])"
   ]
  },
  {
   "cell_type": "markdown",
   "metadata": {},
   "source": [
    "Nous allouons la mémoire pour la solution, calculons la matrice du système linéaire, la visualisons. La matrice a seulement 5 diagonales nous nulles."
   ]
  },
  {
   "cell_type": "code",
   "execution_count": null,
   "metadata": {},
   "outputs": [],
   "source": [
    "U = np.zeros((Nx+1)*(Ny+1))\n",
    "A = matrix_neumann2D(Omega,Nx,Ny) + a*sparse.identity((Nx+1)*(Ny+1))\n",
    "print(type(A))\n",
    "plt.spy(A)\n",
    "plt.show()"
   ]
  },
  {
   "cell_type": "markdown",
   "metadata": {},
   "source": [
    "Et nous pouvons résoudre le système linéaire."
   ]
  },
  {
   "cell_type": "code",
   "execution_count": null,
   "metadata": {},
   "outputs": [],
   "source": [
    "from scipy.sparse.linalg import spsolve\n",
    "U = spsolve(A,F)"
   ]
  },
  {
   "cell_type": "markdown",
   "metadata": {},
   "source": [
    "Avec $f(x,y) = 1$, la solution du problème est $u(x,y) = 1$. Nous pouvons vérifier l'erreur commise par notre méthode, alors que celle-ci devrait être exacte dans ce cas. C'est à dire que l'on devrait trouver que `U==1`."
   ]
  },
  {
   "cell_type": "code",
   "execution_count": null,
   "metadata": {},
   "outputs": [],
   "source": [
    "V = np.ones((Nx+1)*(Ny+1)) # Solution exacte\n",
    "hx,hy = (Omega[1]-Omega[0])/Nx, (Omega[3]-Omega[2])/Ny\n",
    "print(\"{:8s} {:12s} {:12s} {:12s}\".format(\"Nb inconnues\", \"hx\", \"hy\", \"erreur L^2\"))\n",
    "print(\"{:8d} {:12.5e} {:12.5e} {:12.5e}\".format((Nx+1)*(Ny+1), hx,hy, np.sqrt(hx*hy)*np.linalg.norm(V-U)))"
   ]
  },
  {
   "cell_type": "markdown",
   "metadata": {},
   "source": [
    "Le tracé de la solution se fait avec un toolkit de `matplotlib`, qui est documenté sur internet."
   ]
  },
  {
   "cell_type": "code",
   "execution_count": null,
   "metadata": {},
   "outputs": [],
   "source": [
    "print(U-1)"
   ]
  },
  {
   "cell_type": "code",
   "execution_count": null,
   "metadata": {
    "scrolled": true
   },
   "outputs": [],
   "source": [
    "from mpl_toolkits.mplot3d import Axes3D\n",
    "fig = plt.figure()\n",
    "ax = Axes3D(fig)\n",
    "\n",
    "X,Y = np.meshgrid(x,y)\n",
    "ax.plot_surface(X,Y, U.reshape((Nx+1,Ny+1)), cmap='hot')\n",
    "plt.xlabel(\"x\")\n",
    "plt.ylabel(\"y\")\n",
    "\n",
    "plt.show()"
   ]
  },
  {
   "cell_type": "markdown",
   "metadata": {},
   "source": [
    "Autre cas avec, plus intéressant, est obtenu avec $u = \\cos(k\\pi x)*\\cos(k\\pi y)$, qui vérifie bien $\\partial_n u = 0$ sur le bord de $\\Omega = (0,1)\\times (0,1)$, et pour laquelle on a $-\\Delta(u) = 2(k\\pi)^2 u$, ce qui fait que l'on obtient $u$ comme solution si l'on prend $f = (a+2k^2\\pi^2)\\cos(k\\pi x)*\\cos(k\\pi y)$.\n",
    "\n",
    "Reprenons l'étude suivante dans ce cas..."
   ]
  },
  {
   "cell_type": "code",
   "execution_count": null,
   "metadata": {},
   "outputs": [],
   "source": [
    "Omega = np.array([0.,1.,0.,1.])\n",
    "Nx,Ny = 1000,1000 # 501*501 inconnues > 250 000 !\n",
    "\n",
    "a = 0.1\n",
    "q = 3.\n",
    "def f(x,y):\n",
    "    return (a + 2*(q*np.pi)**2) * np.cos(q*np.pi*x) * np.cos(q*np.pi*y)\n",
    "def u(x,y):\n",
    "    return np.cos(q*np.pi*x) * np.cos(q*np.pi*y)\n",
    "\n",
    "x = np.linspace(Omega[0],Omega[1],Nx+1)\n",
    "y = np.linspace(Omega[2],Omega[3],Ny+1)\n",
    "F = np.zeros((Nx+1)*(Ny+1)) # second membre\n",
    "V = np.zeros((Nx+1)*(Ny+1)) # solution exacte\n",
    "for i in np.arange(Nx+1):\n",
    "    for j in np.arange(Ny+1):\n",
    "        k = i+j*(Nx+1)\n",
    "        F[k] = f(x[i],y[j])\n",
    "        V[k] = u(x[i],y[j])\n",
    "        \n",
    "U = np.zeros((Nx+1)*(Ny+1)) # solution approchée\n",
    "A = matrix_neumann2D(Omega,Nx,Ny) + a*sparse.identity((Nx+1)*(Ny+1))\n",
    "\n",
    "U = spsolve(A,F)\n",
    "\n",
    "hx,hy = (Omega[1]-Omega[0])/Nx, (Omega[3]-Omega[2])/Ny\n",
    "print(\"{:8s} {:12s} {:12s} {:12s}\".\n",
    "      format(\"Nb inconnues\", \"hx\", \"hy\", \"erreur L^2\"))\n",
    "print(\"{:8d} {:12.5e} {:12.5e} {:12.5e}\".\n",
    "      format((Nx+1)*(Ny+1), hx,hy, np.sqrt(hx*hy)*np.linalg.norm(V-U)))\n",
    "\n",
    "fig = plt.figure()\n",
    "ax = Axes3D(fig)\n",
    "\n",
    "X,Y = np.meshgrid(x,y)\n",
    "ax.plot_surface(X,Y, U.reshape((Nx+1,Ny+1)), cmap='hot')\n",
    "plt.xlabel(\"x\")\n",
    "plt.ylabel(\"y\")\n",
    "\n",
    "plt.show()"
   ]
  },
  {
   "cell_type": "code",
   "execution_count": null,
   "metadata": {},
   "outputs": [],
   "source": []
  }
 ],
 "metadata": {
  "kernelspec": {
   "display_name": "Python 3",
   "language": "python",
   "name": "python3"
  },
  "language_info": {
   "codemirror_mode": {
    "name": "ipython",
    "version": 3
   },
   "file_extension": ".py",
   "mimetype": "text/x-python",
   "name": "python",
   "nbconvert_exporter": "python",
   "pygments_lexer": "ipython3",
   "version": "3.7.8"
  }
 },
 "nbformat": 4,
 "nbformat_minor": 2
}
