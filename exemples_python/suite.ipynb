{
 "cells": [
  {
   "cell_type": "markdown",
   "metadata": {},
   "source": [
    "# Introduction\n",
    "Une variable python est repérée par un identifiant, qui est composé de caractères non accentués, sans espaces, et quelques autres règles. Par exemple, on peut affecter la valeur 1.0 à la variable d'identifiant a. Plus simplement, on parle de la variable a."
   ]
  },
  {
   "cell_type": "code",
   "execution_count": null,
   "metadata": {},
   "outputs": [],
   "source": [
    "a = 0.1"
   ]
  },
  {
   "cell_type": "markdown",
   "metadata": {},
   "source": [
    "Cela signifie que le code binaire pour représenter 1.0 est enregistré quelque part en mémoire et que a fait référence à cet emplacement."
   ]
  },
  {
   "cell_type": "markdown",
   "metadata": {},
   "source": [
    "Le type de variable est le type d'objet que l'on stocke en mémoire. Ilest donc lié avec une représentation en machine de cet objet. En python, il existe par exemple les types suivants:"
   ]
  },
  {
   "cell_type": "markdown",
   "metadata": {},
   "source": [
    "Nombres réels à virgule flottante (voir norme IEEE-754) -- float"
   ]
  },
  {
   "cell_type": "code",
   "execution_count": null,
   "metadata": {},
   "outputs": [],
   "source": [
    "x = 0.1"
   ]
  },
  {
   "cell_type": "markdown",
   "metadata": {},
   "source": [
    "La fonction print affiche la valeur de la variable. La fonction type renvoie le type d'une variable."
   ]
  },
  {
   "cell_type": "code",
   "execution_count": null,
   "metadata": {},
   "outputs": [],
   "source": [
    "print(x, type(x))"
   ]
  },
  {
   "cell_type": "markdown",
   "metadata": {},
   "source": [
    "Entiers -- integer"
   ]
  },
  {
   "cell_type": "code",
   "execution_count": null,
   "metadata": {},
   "outputs": [],
   "source": [
    "n = 1\n",
    "print(n, type(n))"
   ]
  },
  {
   "cell_type": "markdown",
   "metadata": {},
   "source": [
    "Chaine de caractère"
   ]
  },
  {
   "cell_type": "code",
   "execution_count": null,
   "metadata": {},
   "outputs": [],
   "source": [
    "s = \"Bonjour, je suis une € £µ chaîne de caractère, avec des caractères typiquement français, qui n'ont pas de code Ascii\"\n",
    "print(s, type(s))"
   ]
  },
  {
   "cell_type": "markdown",
   "metadata": {},
   "source": [
    "# Types natifs"
   ]
  },
  {
   "cell_type": "markdown",
   "metadata": {},
   "source": [
    "Une variable python est repérée par un identifiant, qui est composé de caractères non accentués, sans espaces, et quelques autres règles. Par exemple, on peut affecter la valeur 1.0 à la variable d'identifiant a. Plus simplement, on parle de la variable a."
   ]
  },
  {
   "cell_type": "code",
   "execution_count": null,
   "metadata": {},
   "outputs": [],
   "source": [
    "a = 1.0"
   ]
  },
  {
   "cell_type": "markdown",
   "metadata": {},
   "source": [
    "Cela signifie que le code binaire pour représenter 1.0 est enregistré quelque part en mémoire et que a fait référence à cet emplacement. Le type de variable est le type d'objet que l'on stocke en mémoire. Il est donc lié avec une représentation en machine de cet objet. En python, il existe les types suivants qui nous seront utiles:\n",
    "\n",
    " - Nombres réels à virgule flottante (voir norme IEEE-754) -- float"
   ]
  },
  {
   "cell_type": "code",
   "execution_count": null,
   "metadata": {},
   "outputs": [],
   "source": [
    "x = 0.1"
   ]
  },
  {
   "cell_type": "markdown",
   "metadata": {},
   "source": [
    "La fonction print affiche la valeur de la variable. La fonction type renvoie le type d'une variable."
   ]
  },
  {
   "cell_type": "code",
   "execution_count": null,
   "metadata": {},
   "outputs": [],
   "source": [
    "print(x, type(x))"
   ]
  },
  {
   "cell_type": "markdown",
   "metadata": {},
   "source": [
    "Et si on veut formater automatiquement l'affichage:"
   ]
  },
  {
   "cell_type": "code",
   "execution_count": null,
   "metadata": {},
   "outputs": [],
   "source": [
    "print(\"la variable x vaut {0} et son type est {1}.\".format(x,type(x)))"
   ]
  },
  {
   "cell_type": "markdown",
   "metadata": {},
   "source": [
    " - Entiers -- integer"
   ]
  },
  {
   "cell_type": "code",
   "execution_count": null,
   "metadata": {},
   "outputs": [],
   "source": [
    "n = 1\n",
    "print(n, type(n))"
   ]
  },
  {
   "cell_type": "markdown",
   "metadata": {},
   "source": [
    " - Chaine de caractère"
   ]
  },
  {
   "cell_type": "code",
   "execution_count": null,
   "metadata": {},
   "outputs": [],
   "source": [
    "s = \"Bonjour, je suis une chaîne de caractère, avec des caractères typiquement français, qui n'ont pas de code Ascii\"\n",
    "print(s, type(s))"
   ]
  },
  {
   "cell_type": "markdown",
   "metadata": {},
   "source": [
    "# Opérations simples\n",
    " On peut faire des opérations sur des variables, et affecter les résultats à de nouvelles variables, ou pas.\n",
    "\n",
    "Des opérations sur des réels:"
   ]
  },
  {
   "cell_type": "code",
   "execution_count": null,
   "metadata": {},
   "outputs": [],
   "source": [
    "x = 0.5\n",
    "y = x*x\n",
    "z = 2*x\n",
    "t = x/y\n",
    "print('x =',x,'\\ny = x^2 =',y,'\\nz = 2x =',z,'\\nt = x/y =',t)"
   ]
  },
  {
   "cell_type": "markdown",
   "metadata": {},
   "source": [
    "(le \\n est un retour à la ligne).\n",
    "\n",
    "Avec des entiers:"
   ]
  },
  {
   "cell_type": "code",
   "execution_count": null,
   "metadata": {},
   "outputs": [],
   "source": [
    "n = 2\n",
    "p = 1/2  # Ceci est la division dans R, le résultat est 0.5\n",
    "q = 1//2 # la division euclidienne, le résultat est 0\n",
    "r = 1%2  # le reste dans la division euclidienne, soit 1\n",
    "print(\"n =\",n,\"\\np = 1/2 =\",p,\"\\nq = 1//2 =\",q,\"\\nr = 1%2 = \",r)"
   ]
  },
  {
   "cell_type": "markdown",
   "metadata": {},
   "source": [
    "On peut aussi convertir automatiquement des types de variables:"
   ]
  },
  {
   "cell_type": "code",
   "execution_count": null,
   "metadata": {},
   "outputs": [],
   "source": [
    "x = 0.2 # un float\n",
    "n = 2   # un int\n",
    "t = x+n # conversion automatique dans le type qui convient, float\n",
    "print(type(x),type(n),type(t))\n",
    "print(x,n,t)"
   ]
  },
  {
   "cell_type": "markdown",
   "metadata": {},
   "source": [
    "Attention, pour les opérations entre des types différents, il n'y a pas toujours de conversion qui permet de réaliser l'opération:"
   ]
  },
  {
   "cell_type": "code",
   "execution_count": null,
   "metadata": {},
   "outputs": [],
   "source": [
    "s = \"1234\"\n",
    "x = 2*s # c'est \"12341234\"\n",
    "y = x+\"abc\" # c'est \"12341234abc\"\n",
    "print(\"s =\",s,\"x = 2*s\",x,\"y = x+'abc' =\",y)\n",
    "y = s+12 # impossible"
   ]
  }
 ],
 "metadata": {
  "kernelspec": {
   "display_name": "Python 3",
   "language": "python",
   "name": "python3"
  },
  "language_info": {
   "codemirror_mode": {
    "name": "ipython",
    "version": 3
   },
   "file_extension": ".py",
   "mimetype": "text/x-python",
   "name": "python",
   "nbconvert_exporter": "python",
   "pygments_lexer": "ipython3",
   "version": "3.7.8"
  }
 },
 "nbformat": 4,
 "nbformat_minor": 4
}
